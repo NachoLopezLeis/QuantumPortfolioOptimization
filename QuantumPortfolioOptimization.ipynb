{
  "cells": [
    {
      "cell_type": "markdown",
      "metadata": {
        "id": "kegs198gyiSv"
      },
      "source": [
        "# Pips"
      ]
    },
    {
      "cell_type": "code",
      "execution_count": null,
      "metadata": {
        "colab": {
          "background_save": true
        },
        "id": "G1reliqwTuWT",
        "outputId": "a5ac219f-6423-4b00-da3e-c612fdd90f9f"
      },
      "outputs": [
        {
          "name": "stdout",
          "output_type": "stream",
          "text": [
            "Requirement already satisfied: numpy in /usr/local/lib/python3.11/dist-packages (2.0.2)\n",
            "Requirement already satisfied: pandas in /usr/local/lib/python3.11/dist-packages (2.2.2)\n",
            "Requirement already satisfied: yfinance in /usr/local/lib/python3.11/dist-packages (0.2.55)\n",
            "Requirement already satisfied: matplotlib in /usr/local/lib/python3.11/dist-packages (3.10.0)\n",
            "Requirement already satisfied: scipy in /usr/local/lib/python3.11/dist-packages (1.14.1)\n",
            "Requirement already satisfied: qiskit==2.0.0 in /usr/local/lib/python3.11/dist-packages (2.0.0)\n",
            "Requirement already satisfied: qiskit-aer==0.17.0 in /usr/local/lib/python3.11/dist-packages (0.17.0)\n",
            "Requirement already satisfied: qiskit-ibm-runtime==0.38.0 in /usr/local/lib/python3.11/dist-packages (0.38.0)\n",
            "Requirement already satisfied: qiskit_algorithms==0.3.1 in /usr/local/lib/python3.11/dist-packages (0.3.1)\n",
            "Requirement already satisfied: rustworkx>=0.15.0 in /usr/local/lib/python3.11/dist-packages (from qiskit==2.0.0) (0.16.0)\n",
            "Requirement already satisfied: sympy>=1.3 in /usr/local/lib/python3.11/dist-packages (from qiskit==2.0.0) (1.13.1)\n",
            "Requirement already satisfied: dill>=0.3 in /usr/local/lib/python3.11/dist-packages (from qiskit==2.0.0) (0.4.0)\n",
            "Requirement already satisfied: python-dateutil>=2.8.0 in /usr/local/lib/python3.11/dist-packages (from qiskit==2.0.0) (2.8.2)\n",
            "Requirement already satisfied: stevedore>=3.0.0 in /usr/local/lib/python3.11/dist-packages (from qiskit==2.0.0) (5.4.1)\n",
            "Requirement already satisfied: typing-extensions in /usr/local/lib/python3.11/dist-packages (from qiskit==2.0.0) (4.13.2)\n",
            "Requirement already satisfied: symengine<0.14,>=0.11 in /usr/local/lib/python3.11/dist-packages (from qiskit==2.0.0) (0.13.0)\n",
            "Requirement already satisfied: psutil>=5 in /usr/local/lib/python3.11/dist-packages (from qiskit-aer==0.17.0) (5.9.5)\n",
            "Requirement already satisfied: requests>=2.19 in /usr/local/lib/python3.11/dist-packages (from qiskit-ibm-runtime==0.38.0) (2.32.3)\n",
            "Requirement already satisfied: requests-ntlm>=1.1.0 in /usr/local/lib/python3.11/dist-packages (from qiskit-ibm-runtime==0.38.0) (1.3.0)\n",
            "Requirement already satisfied: urllib3>=1.21.1 in /usr/local/lib/python3.11/dist-packages (from qiskit-ibm-runtime==0.38.0) (2.3.0)\n",
            "Requirement already satisfied: ibm-platform-services>=0.22.6 in /usr/local/lib/python3.11/dist-packages (from qiskit-ibm-runtime==0.38.0) (0.63.0)\n",
            "Requirement already satisfied: pydantic<2.10,>=2.5.0 in /usr/local/lib/python3.11/dist-packages (from qiskit-ibm-runtime==0.38.0) (2.9.2)\n",
            "Requirement already satisfied: packaging in /usr/local/lib/python3.11/dist-packages (from qiskit-ibm-runtime==0.38.0) (24.2)\n",
            "Requirement already satisfied: pytz>=2020.1 in /usr/local/lib/python3.11/dist-packages (from pandas) (2025.2)\n",
            "Requirement already satisfied: tzdata>=2022.7 in /usr/local/lib/python3.11/dist-packages (from pandas) (2025.2)\n",
            "Requirement already satisfied: multitasking>=0.0.7 in /usr/local/lib/python3.11/dist-packages (from yfinance) (0.0.11)\n",
            "Requirement already satisfied: platformdirs>=2.0.0 in /usr/local/lib/python3.11/dist-packages (from yfinance) (4.3.7)\n",
            "Requirement already satisfied: frozendict>=2.3.4 in /usr/local/lib/python3.11/dist-packages (from yfinance) (2.4.6)\n",
            "Requirement already satisfied: peewee>=3.16.2 in /usr/local/lib/python3.11/dist-packages (from yfinance) (3.17.9)\n",
            "Requirement already satisfied: beautifulsoup4>=4.11.1 in /usr/local/lib/python3.11/dist-packages (from yfinance) (4.13.4)\n",
            "Requirement already satisfied: contourpy>=1.0.1 in /usr/local/lib/python3.11/dist-packages (from matplotlib) (1.3.2)\n",
            "Requirement already satisfied: cycler>=0.10 in /usr/local/lib/python3.11/dist-packages (from matplotlib) (0.12.1)\n",
            "Requirement already satisfied: fonttools>=4.22.0 in /usr/local/lib/python3.11/dist-packages (from matplotlib) (4.57.0)\n",
            "Requirement already satisfied: kiwisolver>=1.3.1 in /usr/local/lib/python3.11/dist-packages (from matplotlib) (1.4.8)\n",
            "Requirement already satisfied: pillow>=8 in /usr/local/lib/python3.11/dist-packages (from matplotlib) (11.1.0)\n",
            "Requirement already satisfied: pyparsing>=2.3.1 in /usr/local/lib/python3.11/dist-packages (from matplotlib) (3.2.3)\n",
            "Requirement already satisfied: pydot in /usr/local/lib/python3.11/dist-packages (from qiskit[visualization]) (3.0.4)\n",
            "Requirement already satisfied: pylatexenc>=1.4 in /usr/local/lib/python3.11/dist-packages (from qiskit[visualization]) (2.10)\n",
            "Requirement already satisfied: seaborn>=0.9.0 in /usr/local/lib/python3.11/dist-packages (from qiskit[visualization]) (0.13.2)\n",
            "Requirement already satisfied: soupsieve>1.2 in /usr/local/lib/python3.11/dist-packages (from beautifulsoup4>=4.11.1->yfinance) (2.6)\n",
            "Requirement already satisfied: ibm_cloud_sdk_core<4.0.0,>=3.22.1 in /usr/local/lib/python3.11/dist-packages (from ibm-platform-services>=0.22.6->qiskit-ibm-runtime==0.38.0) (3.23.0)\n",
            "Requirement already satisfied: annotated-types>=0.6.0 in /usr/local/lib/python3.11/dist-packages (from pydantic<2.10,>=2.5.0->qiskit-ibm-runtime==0.38.0) (0.7.0)\n",
            "Requirement already satisfied: pydantic-core==2.23.4 in /usr/local/lib/python3.11/dist-packages (from pydantic<2.10,>=2.5.0->qiskit-ibm-runtime==0.38.0) (2.23.4)\n",
            "Requirement already satisfied: six>=1.5 in /usr/local/lib/python3.11/dist-packages (from python-dateutil>=2.8.0->qiskit==2.0.0) (1.17.0)\n",
            "Requirement already satisfied: charset-normalizer<4,>=2 in /usr/local/lib/python3.11/dist-packages (from requests>=2.19->qiskit-ibm-runtime==0.38.0) (3.4.1)\n",
            "Requirement already satisfied: idna<4,>=2.5 in /usr/local/lib/python3.11/dist-packages (from requests>=2.19->qiskit-ibm-runtime==0.38.0) (3.10)\n",
            "Requirement already satisfied: certifi>=2017.4.17 in /usr/local/lib/python3.11/dist-packages (from requests>=2.19->qiskit-ibm-runtime==0.38.0) (2025.1.31)\n",
            "Requirement already satisfied: cryptography>=1.3 in /usr/local/lib/python3.11/dist-packages (from requests-ntlm>=1.1.0->qiskit-ibm-runtime==0.38.0) (43.0.3)\n",
            "Requirement already satisfied: pyspnego>=0.4.0 in /usr/local/lib/python3.11/dist-packages (from requests-ntlm>=1.1.0->qiskit-ibm-runtime==0.38.0) (0.11.2)\n",
            "Requirement already satisfied: pbr>=2.0.0 in /usr/local/lib/python3.11/dist-packages (from stevedore>=3.0.0->qiskit==2.0.0) (6.1.1)\n",
            "Requirement already satisfied: mpmath<1.4,>=1.1.0 in /usr/local/lib/python3.11/dist-packages (from sympy>=1.3->qiskit==2.0.0) (1.3.0)\n",
            "Requirement already satisfied: cffi>=1.12 in /usr/local/lib/python3.11/dist-packages (from cryptography>=1.3->requests-ntlm>=1.1.0->qiskit-ibm-runtime==0.38.0) (1.17.1)\n",
            "Requirement already satisfied: PyJWT<3.0.0,>=2.8.0 in /usr/local/lib/python3.11/dist-packages (from ibm_cloud_sdk_core<4.0.0,>=3.22.1->ibm-platform-services>=0.22.6->qiskit-ibm-runtime==0.38.0) (2.10.1)\n",
            "Requirement already satisfied: setuptools in /usr/local/lib/python3.11/dist-packages (from pbr>=2.0.0->stevedore>=3.0.0->qiskit==2.0.0) (75.2.0)\n",
            "Requirement already satisfied: pycparser in /usr/local/lib/python3.11/dist-packages (from cffi>=1.12->cryptography>=1.3->requests-ntlm>=1.1.0->qiskit-ibm-runtime==0.38.0) (2.22)\n"
          ]
        }
      ],
      "source": [
        "!pip install numpy pandas yfinance matplotlib scipy qiskit==2.0.0 qiskit-aer==0.17.0 qiskit-ibm-runtime==0.38.0 qiskit_algorithms==0.3.1 'qiskit[visualization]'\n"
      ]
    },
    {
      "cell_type": "markdown",
      "metadata": {
        "id": "qaJ_katSynyV"
      },
      "source": [
        "# Librerias"
      ]
    },
    {
      "cell_type": "code",
      "execution_count": null,
      "metadata": {
        "colab": {
          "background_save": true
        },
        "id": "Fj76MsseyLDV"
      },
      "outputs": [],
      "source": [
        "import numpy as np\n",
        "import pandas as pd\n",
        "import yfinance as yf\n",
        "import matplotlib.pyplot as plt\n",
        "from scipy.optimize import minimize\n",
        "from qiskit import transpile\n",
        "from qiskit_aer import AerSimulator\n",
        "from qiskit.quantum_info import SparsePauliOp\n",
        "from qiskit.circuit.library import RealAmplitudes\n",
        "from qiskit_aer.primitives import EstimatorV2\n",
        "from qiskit_aer.primitives import SamplerV2"
      ]
    },
    {
      "cell_type": "markdown",
      "metadata": {
        "id": "Bb-NQ--gyqgb"
      },
      "source": [
        "# Obtener los valores de Yahoo Finance"
      ]
    },
    {
      "cell_type": "code",
      "execution_count": null,
      "metadata": {
        "colab": {
          "background_save": true
        },
        "id": "1qllM2tdyOIV"
      },
      "outputs": [],
      "source": [
        "def get_ibex35_data():\n",
        "    tickers = [\n",
        "        \"ANA.MC\", \"ACX.MC\", \"ACS.MC\", \"AENA.MC\", \"ALM.MC\", \"AMS.MC\",\n",
        "        \"BBVA.MC\", \"CABK.MC\", \"CLNX.MC\", \"DIA.MC\", \"EBRO.MC\", \"ELE.MC\",\n",
        "        \"ENG.MC\", \"FER.MC\", \"GRF.MC\", \"IBE.MC\", \"IDR.MC\", \"ITX.MC\",\n",
        "        \"COL.MC\", \"LOG.MC\", \"MAP.MC\", \"MEL.MC\", \"MRL.MC\", \"NTGY.MC\",\n",
        "        \"PHM.MC\", \"REP.MC\", \"ROVI.MC\", \"SAB.MC\", \"SAN.MC\"\n",
        "    ]\n",
        "\n",
        "    data = yf.download(\n",
        "        tickers,\n",
        "        start='2023-01-01',\n",
        "        end='2024-04-01',\n",
        "        auto_adjust=False\n",
        "    )['Adj Close']\n",
        "\n",
        "    # Manejo robusto de datos faltantes\n",
        "    data = data.dropna(axis=1, how='all').ffill().bfill().fillna(0)\n",
        "\n",
        "    returns = data.pct_change().dropna()\n",
        "    mu = returns.mean().values * 252\n",
        "    sigma = returns.cov().values * 252\n",
        "\n",
        "    # Forzar matriz de covarianza a ser definida positiva y real\n",
        "    sigma = (sigma + sigma.T) / 2\n",
        "    sigma = np.real(sigma)\n",
        "    sigma += np.eye(sigma.shape[0]) * 1e-6\n",
        "\n",
        "    # Asegurarse de que no haya valores NaN o complejos\n",
        "    mu = np.nan_to_num(mu, nan=0.0)\n",
        "    sigma = np.nan_to_num(sigma, nan=0.0)\n",
        "\n",
        "    return mu, sigma, data.columns.tolist()"
      ]
    },
    {
      "cell_type": "markdown",
      "metadata": {
        "id": "tqtvtA6VyzUK"
      },
      "source": [
        "# Hacemos nuestra ecuacion"
      ]
    },
    {
      "cell_type": "code",
      "execution_count": null,
      "metadata": {
        "colab": {
          "background_save": true
        },
        "id": "OZ4mJI6yyS9d"
      },
      "outputs": [],
      "source": [
        "def build_portfolio_problem(mu, sigma, num_assets, budget=5, risk_factor=0.5):\n",
        "    # Creamos un diccionario para representar el problema en formato QUBO\n",
        "    qubo_dict = {}\n",
        "\n",
        "    # Términos lineales (retornos esperados)\n",
        "    for i in range(num_assets):\n",
        "        qubo_dict[(i, i)] = float(-mu[i])\n",
        "\n",
        "    # Términos cuadráticos (riesgo)\n",
        "    for i in range(num_assets):\n",
        "        for j in range(i+1, num_assets):\n",
        "            qubo_dict[(i, j)] = float(risk_factor * sigma[i, j])\n",
        "\n",
        "    # Restricción de presupuesto (seleccionar exactamente 'budget' acciones)\n",
        "    # Implementamos como penalización cuadrática\n",
        "    penalty = 10.0  # Factor de penalización alto\n",
        "\n",
        "    # Añadir término (sum(x_i) - budget)^2\n",
        "    for i in range(num_assets):\n",
        "        qubo_dict[(i, i)] += penalty * (1 - 2*budget/num_assets)\n",
        "    for i in range(num_assets):\n",
        "        for j in range(i+1, num_assets):\n",
        "            if (i, j) in qubo_dict:\n",
        "                qubo_dict[(i, j)] += penalty * 2/num_assets**2\n",
        "            else:\n",
        "                qubo_dict[(i, j)] = penalty * 2/num_assets**2\n",
        "\n",
        "    # Convertir QUBO a operador Hamiltoniano\n",
        "    pauli_terms = []\n",
        "    coeffs = []\n",
        "\n",
        "    # Términos lineales y cuadráticos\n",
        "    for (i, j), coeff in qubo_dict.items():\n",
        "        if i == j:  # Término lineal\n",
        "            pauli_str = ['I'] * num_assets\n",
        "            pauli_str[i] = 'Z'\n",
        "            pauli_terms.append(''.join(pauli_str))\n",
        "            coeffs.append(float(coeff))\n",
        "        else:  # Término cuadrático\n",
        "            pauli_str = ['I'] * num_assets\n",
        "            pauli_str[i] = 'Z'\n",
        "            pauli_str[j] = 'Z'\n",
        "            pauli_terms.append(''.join(pauli_str))\n",
        "            coeffs.append(float(coeff))\n",
        "\n",
        "    # Crear el operador hamiltoniano con coeficientes reales\n",
        "    hamiltonian = SparsePauliOp(pauli_terms, coeffs)\n",
        "\n",
        "    return hamiltonian, qubo_dict"
      ]
    },
    {
      "cell_type": "markdown",
      "metadata": {
        "id": "apP2vvXny6oB"
      },
      "source": [
        "# Vector Quantum Estimator"
      ]
    },
    {
      "cell_type": "code",
      "execution_count": null,
      "metadata": {
        "colab": {
          "background_save": true
        },
        "id": "HyKK0T1oyWkW"
      },
      "outputs": [],
      "source": [
        "class ManualVQE:\n",
        "    def __init__(self, ansatz, estimator, maxiter=100):\n",
        "        self.ansatz = ansatz\n",
        "        self.estimator = estimator\n",
        "        self.backend = AerSimulator(\n",
        "                              method='statevector',\n",
        "                              device='GPU',\n",
        "                              cuStateVec_enable=True\n",
        "                              )\n",
        "        self.maxiter = maxiter\n",
        "        self.cost_function_evals = 0\n",
        "        self.optimizer_evals = 0\n",
        "\n",
        "    def compute_minimum_eigenvalue(self, operator, initial_point=None):\n",
        "        if initial_point is None:\n",
        "            initial_point = np.random.random(self.ansatz.num_parameters) * 2 * np.pi\n",
        "\n",
        "        self.cost_function_evals = 0\n",
        "\n",
        "        def cost_function(params):\n",
        "            self.cost_function_evals += 1\n",
        "            circuit = self.ansatz.assign_parameters(params)\n",
        "\n",
        "           # Usar self.backend en lugar de backend\n",
        "            transpiled_circuit = transpile(circuit, self.backend)\n",
        "\n",
        "          # Formato correcto para EstimatorV2\n",
        "            job = self.estimator.run([(transpiled_circuit, operator)])\n",
        "            result = job.result()\n",
        "            return result.data.evs[0]  # Cambio clave aquí\n",
        "\n",
        "\n",
        "\n",
        "        # Usar scipy.optimize para minimizar la función de costo\n",
        "        from scipy.optimize import minimize\n",
        "        result = minimize(\n",
        "            cost_function,\n",
        "            initial_point,\n",
        "            method='COBYLA',\n",
        "            options={'maxiter': 100}\n",
        "        )\n",
        "\n",
        "        self.optimizer_evals = result.nfev\n",
        "\n",
        "        # Crear un objeto de resultado similar al de VQE original\n",
        "        class VQEResult:\n",
        "            def __init__(self, eigenvalue, optimal_point, cost_function_evals, optimizer_evals):\n",
        "                self.eigenvalue = eigenvalue\n",
        "                self.optimal_point = optimal_point\n",
        "                self.cost_function_evals = cost_function_evals\n",
        "                self.optimizer_evals = optimizer_evals\n",
        "\n",
        "        return VQEResult(result.fun, result.x, self.cost_function_evals, self.optimizer_evals)"
      ]
    },
    {
      "cell_type": "markdown",
      "metadata": {
        "id": "vACU2uljzBqI"
      },
      "source": [
        "# Calculo de función de coste"
      ]
    },
    {
      "cell_type": "code",
      "execution_count": null,
      "metadata": {
        "colab": {
          "background_save": true
        },
        "id": "Rbt3AMuDyZQq"
      },
      "outputs": [],
      "source": [
        "def calculate_portfolio_energy(bitstring, qubo_dict, num_assets):\n",
        "    \"\"\"Calcula la energía (costo) de un portafolio dado un bitstring.\"\"\"\n",
        "    energy = 0\n",
        "\n",
        "    # Convertir bitstring a configuración binaria\n",
        "    if isinstance(bitstring, int):\n",
        "        binary = format(bitstring, f'0{num_assets}b')\n",
        "        config = [int(bit) for bit in binary]\n",
        "    else:\n",
        "        config = [int(bit) for bit in bitstring]\n",
        "\n",
        "    # Calcular términos lineales\n",
        "    for i in range(num_assets):\n",
        "        if (i, i) in qubo_dict and config[i] == 1:\n",
        "            energy += qubo_dict[(i, i)]\n",
        "\n",
        "    # Calcular términos cuadráticos\n",
        "    for i in range(num_assets):\n",
        "        for j in range(i+1, num_assets):\n",
        "            if (i, j) in qubo_dict and config[i] == 1 and config[j] == 1:\n",
        "                energy += qubo_dict[(i, j)]\n",
        "\n",
        "    return energy"
      ]
    },
    {
      "cell_type": "markdown",
      "metadata": {
        "id": "D5WQL5OEzQ3l"
      },
      "source": [
        "# Ejecución del circuito"
      ]
    },
    {
      "cell_type": "code",
      "execution_count": null,
      "metadata": {
        "colab": {
          "background_save": true
        },
        "id": "gQR5lGRVTY-x"
      },
      "outputs": [],
      "source": [
        "def main():\n",
        "    # Obtener datos del IBEX35\n",
        "    mu, sigma, tickers = get_ibex35_data()\n",
        "    num_assets = len(tickers)\n",
        "\n",
        "    # Construir el hamiltoniano para el problema\n",
        "    hamiltonian, qubo_dict = build_portfolio_problem(mu, sigma, num_assets, budget=5, risk_factor=0.5)\n",
        "\n",
        "    # Verificación final para asegurarse de que no haya coeficientes complejos\n",
        "    coeffs = np.array(hamiltonian.coeffs, dtype=float)\n",
        "    if not np.all(np.isreal(coeffs)):\n",
        "        print(\"Advertencia: Se detectaron coeficientes complejos, tomando solo la parte real\")\n",
        "        coeffs = np.real(coeffs)\n",
        "        hamiltonian = SparsePauliOp(hamiltonian.paulis, coeffs)\n",
        "\n",
        "    # Configurar un simulador local para pruebas\n",
        "    backend = AerSimulator()\n",
        "\n",
        "# Crear un ansatz para VQE\n",
        "    vqe_ansatz = RealAmplitudes(num_assets, reps=3, entanglement='linear')\n",
        "\n",
        "# Número de parámetros en el circuito\n",
        "    num_params = vqe_ansatz.num_parameters\n",
        "    print(f\"Número de parámetros del ansatz VQE: {num_params}\")\n",
        "\n",
        "# Configurar el estimador para VQE correctamente\n",
        "    estimator = EstimatorV2.from_backend(backend)\n",
        "\n",
        "# Inicializar parámetros aleatorios\n",
        "    initial_point = np.random.random(num_params) * 2 * np.pi\n",
        "\n",
        "    # Reemplazar todo el bloque de código de VQE por:\n",
        "    vqe_algorithm = ManualVQE(\n",
        "        ansatz=vqe_ansatz,\n",
        "        estimator=estimator,\n",
        "        maxiter=100\n",
        "    )\n",
        "\n",
        "    # Ejecutar el VQE para encontrar el autovector del ansatz\n",
        "    print(\"Iniciando optimización VQE...\")\n",
        "    vqe_result = vqe_algorithm.compute_minimum_eigenvalue(hamiltonian, initial_point)\n",
        "\n",
        "    # Obtener el resultado\n",
        "    optimal_value = vqe_result.eigenvalue\n",
        "    optimal_params = vqe_result.optimal_point\n",
        "\n",
        "    print(\"Optimización completada:\")\n",
        "    print(f\"Valor mínimo encontrado (energía): {optimal_value:.6f}\")\n",
        "    print(f\"Número de evaluaciones de función: {vqe_result.cost_function_evals}\")\n",
        "    print(f\"Número de iteraciones: {vqe_result.optimizer_evals}\")\n",
        "\n",
        "\n",
        "    # Ejecutar el circuito con los parámetros optimizados\n",
        "    bound_circuit = vqe_ansatz.assign_parameters(optimal_params)\n",
        "    qc_with_measurements = bound_circuit.copy()\n",
        "    qc_with_measurements.measure_all()\n",
        "\n",
        "    # Por esto:\n",
        "    from qiskit_aer.primitives import SamplerV2\n",
        "    sampler = SamplerV2.from_backend(backend)\n",
        "    job = sampler.run([(transpile(qc_with_measurements, backend), 10000)])\n",
        "    result = job.result()\n",
        "    counts = result.data.meas[0].get_counts()\n",
        "    # Ordenar las configuraciones por frecuencia (de mayor a menor)\n",
        "    sorted_counts = sorted(counts.items(), key=lambda x: x[1], reverse=True)\n",
        "\n",
        "    # Mostrar las 3 mejores opciones\n",
        "    print(\"\\n🔮 Top 3 Portafolios Cuánticos (VQE):\")\n",
        "    for i, (bitstring, probability) in enumerate(sorted_counts[:3]):\n",
        "        # Convertir a representación binaria\n",
        "        binary_string = format(bitstring, f'0{num_assets}b')\n",
        "\n",
        "        # Obtener índices de acciones seleccionadas\n",
        "        selected_indices = [j for j, bit in enumerate(binary_string) if bit == '0']\n",
        "        selected_stocks = [tickers[j] for j in selected_indices]\n",
        "\n",
        "        # Calcular energía para esta configuración\n",
        "        energy = calculate_portfolio_energy(binary_string, qubo_dict, num_assets)\n",
        "\n",
        "        print(f\"\\nOpción #{i+1} (Probabilidad: {probability:.4f}, Energía: {energy:.6f}):\")\n",
        "        print(f\"Acciones seleccionadas: {selected_stocks}\")\n",
        "\n",
        "        # Calcular retorno esperado y riesgo\n",
        "        portfolio_return = sum(mu[j] for j in selected_indices)\n",
        "\n",
        "        # Calcular riesgo\n",
        "        portfolio_risk = 0\n",
        "        for j in selected_indices:\n",
        "            for k in selected_indices:\n",
        "                portfolio_risk += sigma[j, k]\n",
        "\n",
        "        print(f\"Retorno Esperado: {portfolio_return:.4f}\")\n",
        "        print(f\"Riesgo: {portfolio_risk:.4f}\")\n",
        "        print(f\"Ratio Retorno/Riesgo: {portfolio_return/portfolio_risk if portfolio_risk != 0 else 'N/A':.4f}\")\n"
      ]
    },
    {
      "cell_type": "code",
      "execution_count": null,
      "metadata": {
        "colab": {
          "base_uri": "https://localhost:8080/"
        },
        "id": "bh6FyMg9ycww",
        "outputId": "862d44ec-a0d7-4d26-e297-e70469e25fa0"
      },
      "outputs": [
        {
          "name": "stderr",
          "output_type": "stream",
          "text": [
            "[*********************100%***********************]  29 of 29 completed\n",
            "<ipython-input-7-9b4043b180aa>:10: ComplexWarning: Casting complex values to real discards the imaginary part\n",
            "  coeffs = np.array(hamiltonian.coeffs, dtype=float)\n"
          ]
        },
        {
          "name": "stdout",
          "output_type": "stream",
          "text": [
            "Número de parámetros del ansatz VQE: 116\n",
            "Iniciando optimización VQE...\n"
          ]
        }
      ],
      "source": [
        "if __name__ == \"__main__\":\n",
        "    main()"
      ]
    }
  ],
  "metadata": {
    "accelerator": "GPU",
    "colab": {
      "collapsed_sections": [
        "kegs198gyiSv"
      ],
      "gpuType": "T4",
      "provenance": []
    },
    "kernelspec": {
      "display_name": "Python 3",
      "name": "python3"
    },
    "language_info": {
      "name": "python"
    }
  },
  "nbformat": 4,
  "nbformat_minor": 0
}